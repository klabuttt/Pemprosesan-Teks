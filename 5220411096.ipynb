{
  "nbformat": 4,
  "nbformat_minor": 0,
  "metadata": {
    "colab": {
      "provenance": []
    },
    "kernelspec": {
      "name": "python3",
      "display_name": "Python 3"
    },
    "language_info": {
      "name": "python"
    }
  },
  "cells": [
    {
      "cell_type": "markdown",
      "source": [
        "# SCRAPING DATA"
      ],
      "metadata": {
        "id": "RES5q9B-2AwD"
      }
    },
    {
      "cell_type": "code",
      "source": [
        "pip install google-play-scraper\n"
      ],
      "metadata": {
        "id": "VuX3fSNnBuP_",
        "colab": {
          "base_uri": "https://localhost:8080/"
        },
        "outputId": "21ded059-381c-496a-f552-407beb1bc2a0"
      },
      "execution_count": 1,
      "outputs": [
        {
          "output_type": "stream",
          "name": "stdout",
          "text": [
            "Collecting google-play-scraper\n",
            "  Downloading google_play_scraper-1.2.7-py3-none-any.whl.metadata (50 kB)\n",
            "\u001b[?25l     \u001b[90m━━━━━━━━━━━━━━━━━━━━━━━━━━━━━━━━━━━━━━━━\u001b[0m \u001b[32m0.0/50.2 kB\u001b[0m \u001b[31m?\u001b[0m eta \u001b[36m-:--:--\u001b[0m\r\u001b[2K     \u001b[90m━━━━━━━━━━━━━━━━━━━━━━━━━━━━━━━━━━━━━━━━\u001b[0m \u001b[32m50.2/50.2 kB\u001b[0m \u001b[31m2.4 MB/s\u001b[0m eta \u001b[36m0:00:00\u001b[0m\n",
            "\u001b[?25hDownloading google_play_scraper-1.2.7-py3-none-any.whl (28 kB)\n",
            "Installing collected packages: google-play-scraper\n",
            "Successfully installed google-play-scraper-1.2.7\n"
          ]
        }
      ]
    },
    {
      "cell_type": "code",
      "source": [
        "from google_play_scraper import app, reviews, Sort\n",
        "import pandas as pd\n",
        "\n",
        "# ID aplikasi CapCut di Google Play Store\n",
        "app_id = 'com.lemon.lvoverseas'\n",
        "\n",
        "# Mengambil ulasan dari aplikasi CapCut\n",
        "result = reviews(\n",
        "    app_id,\n",
        "    lang='id',  # Bahasa Indonesia\n",
        "    country='id',  # Indonesia\n",
        "    sort=Sort.NEWEST,  # Mengurutkan berdasarkan yang terbaru\n",
        "    count=1000  # Mengambil 1000 ulasan terbaru\n",
        ")\n",
        "\n",
        "# Membuat DataFrame dari hasil ulasan\n",
        "reviews_data = pd.DataFrame(result[0])\n",
        "reviews= ['Username', 'Rating', 'Komentar']\n",
        "# Menyimpan ulasan ke dalam file CSV\n",
        "reviews_data.to_csv('capcut_reviews.csv', index=False, encoding='utf-8')\n",
        "\n",
        "# Menampilkan beberapa ulasan\n",
        "print(reviews_data.head())"
      ],
      "metadata": {
        "colab": {
          "base_uri": "https://localhost:8080/"
        },
        "id": "ji1DrNkNwPKt",
        "outputId": "757f327c-a1fd-4535-e4b1-60471afb3e8e"
      },
      "execution_count": 10,
      "outputs": [
        {
          "output_type": "stream",
          "name": "stdout",
          "text": [
            "                               reviewId            userName  \\\n",
            "0  590e83a9-dd2f-448f-bbb6-99a88c9751d3  Eka Lidia Paradila   \n",
            "1  e389cf33-6c9b-4d4b-9fb2-7c27cb995395       Sanan Susanto   \n",
            "2  e59fef14-9682-445c-8344-51725ebfec4f           Eneng Abi   \n",
            "3  e5c669c4-9334-4158-a50a-ec6f7b59e80c     Linawati Kelana   \n",
            "4  2503f03f-7952-40c7-99b9-0f994295a753          aulia jani   \n",
            "\n",
            "                                           userImage  \\\n",
            "0  https://play-lh.googleusercontent.com/a/ACg8oc...   \n",
            "1  https://play-lh.googleusercontent.com/a-/ALV-U...   \n",
            "2  https://play-lh.googleusercontent.com/a/ACg8oc...   \n",
            "3  https://play-lh.googleusercontent.com/a/ACg8oc...   \n",
            "4  https://play-lh.googleusercontent.com/a/ACg8oc...   \n",
            "\n",
            "                                             content  score  thumbsUpCount  \\\n",
            "0  Apk editny bagus, tapi kenapa akhir2 ini suka ...      3              0   \n",
            "1                                  sangat membantu 👍      5              0   \n",
            "2                               bagu banget ya👍👍👍👍👍😄      5              0   \n",
            "3                                             baguss      5              0   \n",
            "4                              manguu manguu ngu ngu      5              0   \n",
            "\n",
            "  reviewCreatedVersion                  at  \\\n",
            "0               15.3.0 2025-10-10 10:29:55   \n",
            "1               15.3.0 2025-10-10 10:26:21   \n",
            "2                 None 2025-10-10 10:26:04   \n",
            "3                 None 2025-10-10 10:26:01   \n",
            "4               14.3.0 2025-10-10 10:24:05   \n",
            "\n",
            "                                        replyContent           repliedAt  \\\n",
            "0  Thanks for your feedback. Try switching Wi-Fi/... 2025-10-11 09:36:24   \n",
            "1                                               None                 NaT   \n",
            "2                                               None                 NaT   \n",
            "3                                               None                 NaT   \n",
            "4                                               None                 NaT   \n",
            "\n",
            "  appVersion  \n",
            "0     15.3.0  \n",
            "1     15.3.0  \n",
            "2       None  \n",
            "3       None  \n",
            "4     14.3.0  \n"
          ]
        }
      ]
    }
  ]
}